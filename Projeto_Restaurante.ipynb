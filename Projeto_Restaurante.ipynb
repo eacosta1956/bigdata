{
 "cells": [
  {
   "cell_type": "code",
   "execution_count": null,
   "metadata": {},
   "outputs": [],
   "source": [
    "#pip install matplotlib"
   ]
  },
  {
   "cell_type": "code",
   "execution_count": null,
   "metadata": {},
   "outputs": [],
   "source": [
    "#pip install pandas"
   ]
  },
  {
   "cell_type": "code",
   "execution_count": null,
   "metadata": {},
   "outputs": [],
   "source": [
    "import pandas as pd\n",
    "import matplotlib.pyplot as plt\n",
    "import seaborn as sns"
   ]
  },
  {
   "cell_type": "code",
   "execution_count": null,
   "metadata": {},
   "outputs": [],
   "source": [
    "# Lê o arquivo csv com o Pandas\n",
    "df = pd.read_csv('trabalho_big_data.csv')"
   ]
  },
  {
   "cell_type": "code",
   "execution_count": null,
   "metadata": {},
   "outputs": [],
   "source": [
    "# Calcula a quantidade mensal vendida para cada bebida\n",
    "# A quantidade do arquivo csv representa duas semanas de vendas. Para converter em vendas mensais, \n",
    "# os dados foram multiplicados por 2.\n",
    "df['Quantidade_Mensal_Vendida'] = df['Quantidade'] * 2\n",
    "\n",
    "# Ordena os dados por ordem descendente da quantidade mensal vendida por bebida\n",
    "df = df.sort_values(by = ['Quantidade_Mensal_Vendida'], ascending=True)\n",
    "\n",
    "# Gráfico 1 - quantidade mensal vendida por bebida\n",
    "plt.figure(figsize=(10, 8))\n",
    "plt.barh(df['Produto'],df['Quantidade_Mensal_Vendida'], color='skyblue')\n",
    "plt.xlabel('Quantidade')\n",
    "plt.ylabel('Produto')\n",
    "plt.title('Gráfico 1 - Quantidade Mensal Vendida por Bebida')\n",
    "\n",
    "# Adiciona rótulos nas barras\n",
    "for index, value in enumerate(df['Quantidade_Mensal_Vendida']):\n",
    "    plt.text(value, index, value, va='center')\n",
    "\n",
    "plt.tight_layout()\n",
    "plt.show()\n"
   ]
  },
  {
   "cell_type": "code",
   "execution_count": null,
   "metadata": {},
   "outputs": [],
   "source": [
    "# Ordena os dados por ordem descendente do preço de compra por bebida\n",
    "df = df.sort_values(by = 'PrecoCompra', ascending=True)\n",
    "\n",
    "# Gráfico 2 - preço unitário de compra por bebida\n",
    "plt.figure(figsize=(10, 8))\n",
    "plt.barh(df['Produto'],df['PrecoCompra'], color='skyblue')\n",
    "plt.xlabel('R$')\n",
    "plt.ylabel('Produto')\n",
    "plt.title('Gráfico 2 - Preço Unitário de Compra por Bebida')\n",
    "\n",
    "# Adiciona rótulos nas barras\n",
    "for index, value in enumerate(df['PrecoCompra']):\n",
    "    plt.text(value, index, f\"R$ {value:.2f}\", va=\"center\")\n",
    "\n",
    "plt.tight_layout()\n",
    "plt.show()\n",
    "\n"
   ]
  },
  {
   "cell_type": "code",
   "execution_count": null,
   "metadata": {},
   "outputs": [],
   "source": [
    "# Ordena os dados por ordem descendente do preço de venda por bebida\n",
    "df = df.sort_values(by = 'PrecoVenda', ascending=True)\n",
    "\n",
    "# Gráfico 3 - preço unitário de venda por bebida\n",
    "plt.figure(figsize=(10, 8))\n",
    "plt.barh(df['Produto'],df['PrecoVenda'], color='skyblue')\n",
    "plt.xlabel('R$')\n",
    "plt.ylabel('Produto')\n",
    "plt.title('Gráfico 3 - Preço Unitário de Venda por Bebida')\n",
    "\n",
    "# Adiciona rótulos nas barras\n",
    "for index, value in enumerate(df['PrecoVenda']):\n",
    "    plt.text(value, index, f\"R$ {value:.2f}\", va=\"center\")\n",
    "\n",
    "plt.tight_layout()\n",
    "plt.show()"
   ]
  },
  {
   "cell_type": "code",
   "execution_count": null,
   "metadata": {},
   "outputs": [],
   "source": [
    "# Calcula o lucro unitário para cada bebida\n",
    "df['Lucro_Unitário_por_Bebida'] = df['PrecoVenda'] - df['PrecoCompra']\n",
    "\n",
    "# Ordena os dados por ordem descendente do lucro unitário por bebida\n",
    "df = df.sort_values(by = 'Lucro_Unitário_por_Bebida', ascending=True)\n",
    "\n",
    "# Gráfico 4 - lucro unitário por bebida\n",
    "plt.figure(figsize=(10, 8))\n",
    "plt.barh(df['Produto'],df['Lucro_Unitário_por_Bebida'], color='skyblue')\n",
    "plt.xlabel('R$')\n",
    "plt.ylabel('Produto')\n",
    "plt.title('Gráfico 4 - Lucro Unitário por Bebida')\n",
    "\n",
    "# Adiciona rótulos nas barras\n",
    "for index, value in enumerate(df['Lucro_Unitário_por_Bebida']):\n",
    "    plt.text(value, index, f\"R$ {value:.2f}\", va=\"center\")\n",
    "\n",
    "plt.tight_layout()\n",
    "plt.show()"
   ]
  },
  {
   "cell_type": "code",
   "execution_count": null,
   "metadata": {},
   "outputs": [],
   "source": [
    "# Calcula o lucro mensal para cada bebida\n",
    "df['Lucro_Mensal_por_Bebida'] = df['Quantidade'] * (df['PrecoVenda'] - df['PrecoCompra']) * 2\n",
    "\n",
    "# Ordena os dados por ordem descendente de Lucro Mensal por Bebida\n",
    "df = df.sort_values(by = 'Lucro_Mensal_por_Bebida', ascending=True)\n",
    "\n",
    "# Gráfico 5 - lucro mensal de cada bebida vendida ordenada em ordem decrescente\n",
    "plt.figure(figsize=(10, 8))\n",
    "plt.barh(df['Produto'],df['Lucro_Mensal_por_Bebida'], color='skyblue')\n",
    "plt.xlabel('R$')\n",
    "plt.ylabel('Produto')\n",
    "plt.title('Gráfico 5 - Lucro Mensal por Bebida')\n",
    "\n",
    "# Adiciona rótulos nas barras\n",
    "for index, value in enumerate(df['Lucro_Mensal_por_Bebida']):\n",
    "    plt.text(value, index, f\"R$ {value:.2f}\", va=\"center\")\n",
    "    #plt.text(value, index, f\"R$ {df['Lucro_Mensal_por_Bebida']:.2f}\", va=\"center\")\n",
    "\n",
    "plt.tight_layout()\n",
    "plt.show()"
   ]
  },
  {
   "cell_type": "code",
   "execution_count": null,
   "metadata": {},
   "outputs": [],
   "source": [
    "# Calcula o Lucro Mensal Total\n",
    "df['Lucro_Mensal_por_Bebida_0'] = df['Quantidade'] * (df['PrecoVenda'] - df['PrecoCompra']) * 2\n",
    "lucro_mensal_por_bebida_0 =df['Lucro_Mensal_por_Bebida_0']\n",
    "lucro_mensal_total_0 = lucro_mensal_por_bebida_0.sum()\n",
    "\n",
    "print(f\"Lucro Mensal Total, com aumento de R$ 0,00 no lucro de cada bebida: R$ {lucro_mensal_total_0:.2f}\")\n",
    "\n",
    "\n",
    "# Calcula o Lucro Mensal Total após aplicado um aumento de R$ 0,10 no preço de venda de cada bebida\n",
    "df['Lucro_Mensal_por_Bebida_1'] = df['Quantidade'] * (df['PrecoVenda'] + 0.10 - df['PrecoCompra']) * 2\n",
    "lucro_mensal_por_bebida_1 =df['Lucro_Mensal_por_Bebida_1']\n",
    "lucro_mensal_total_1 = lucro_mensal_por_bebida_1.sum()\n",
    "\n",
    "print(f\"Lucro Mensal Total, com aumento de R$ 0,10 no lucro de cada bebida: R$ {lucro_mensal_total_1:.2f}\")\n",
    "\n",
    "# Calcula o Lucro Mensal Total após aplicado um aumento de R$ 0,20 no preço de venda de cada bebida\n",
    "df['Lucro_Mensal_por_Bebida_2'] = df['Quantidade'] * (df['PrecoVenda'] + 0.20 - df['PrecoCompra']) * 2\n",
    "lucro_mensal_por_bebida_2 =df['Lucro_Mensal_por_Bebida_2']\n",
    "lucro_mensal_total_2 = lucro_mensal_por_bebida_2.sum()\n",
    "\n",
    "print(f\"Lucro Mensal Total, com aumento de R$ 0,20 no lucro de cada bebida: R$ {lucro_mensal_total_2:.2f}\")\n",
    "\n",
    "# Calcula o Lucro Mensal Total após aplicado um aumento de R$ 0,30 no preço de venda de cada bebida\n",
    "df['Lucro_Mensal_por_Bebida_3'] = df['Quantidade'] * (df['PrecoVenda'] + 0.30 - df['PrecoCompra']) * 2\n",
    "lucro_mensal_por_bebida_3 =df['Lucro_Mensal_por_Bebida_3']\n",
    "lucro_mensal_total_3 = lucro_mensal_por_bebida_3.sum()\n",
    "\n",
    "print(f\"Lucro Mensal Total, com aumento de R$ 0,30 no lucro de cada bebida: R$ {lucro_mensal_total_3:.2f}\")\n",
    "\n",
    "# Calcula o Lucro Mensal Total após aplicado um aumento de R$ 0,40 no preço de venda de cada bebida\n",
    "df['Lucro_Mensal_por_Bebida_4'] = df['Quantidade'] * (df['PrecoVenda'] + 0.40 - df['PrecoCompra']) * 2\n",
    "lucro_mensal_por_bebida_4 =df['Lucro_Mensal_por_Bebida_4']\n",
    "lucro_mensal_total_4 = lucro_mensal_por_bebida_4.sum()\n",
    "\n",
    "print(f\"Lucro Mensal Total, com aumento de R$ 0,40 no lucro de cada bebida: R$ {lucro_mensal_total_4:.2f}\")\n"
   ]
  },
  {
   "cell_type": "code",
   "execution_count": null,
   "metadata": {},
   "outputs": [],
   "source": []
  }
 ],
 "metadata": {
  "kernelspec": {
   "display_name": "Python 3",
   "language": "python",
   "name": "python3"
  },
  "language_info": {
   "codemirror_mode": {
    "name": "ipython",
    "version": 3
   },
   "file_extension": ".py",
   "mimetype": "text/x-python",
   "name": "python",
   "nbconvert_exporter": "python",
   "pygments_lexer": "ipython3",
   "version": "3.12.0"
  }
 },
 "nbformat": 4,
 "nbformat_minor": 2
}
